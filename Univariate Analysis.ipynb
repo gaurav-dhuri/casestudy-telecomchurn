{
 "cells": [
  {
   "cell_type": "code",
   "execution_count": 1,
   "id": "b300cee3",
   "metadata": {},
   "outputs": [
    {
     "name": "stdout",
     "output_type": "stream",
     "text": [
      "The probability of diabetes for a patient with sugar level 220 is: 0.3318\n"
     ]
    }
   ],
   "source": [
    "# SIGMOID Curve Probality calculation\n",
    "import math\n",
    "\n",
    "def sigmoid(beta_0, beta_1, x):\n",
    "    exponent = -(beta_0 + beta_1 * x)\n",
    "    return 1 / (1 + math.exp(exponent))\n",
    "\n",
    "# Given values\n",
    "# beta_0 = -15\n",
    "# beta_1 = 0.065\n",
    "# sugar_level = 240\n",
    "\n",
    "# Given values\n",
    "beta_0 = -15\n",
    "beta_1 = 0.065\n",
    "sugar_level = 220\n",
    "\n",
    "# Calculate probability\n",
    "probability_diabetes = sigmoid(beta_0, beta_1, sugar_level)\n",
    "\n",
    "print(f\"The probability of diabetes for a patient with sugar level {sugar_level} is: {probability_diabetes:.4f}\")\n"
   ]
  },
  {
   "cell_type": "code",
   "execution_count": 15,
   "id": "0cb37009",
   "metadata": {},
   "outputs": [
    {
     "data": {
      "text/plain": [
       "1.08"
      ]
     },
     "execution_count": 15,
     "metadata": {},
     "output_type": "execute_result"
    }
   ],
   "source": [
    "round(-13.5+(0.06*243),2)"
   ]
  },
  {
   "cell_type": "code",
   "execution_count": null,
   "id": "76cc788e",
   "metadata": {},
   "outputs": [],
   "source": []
  }
 ],
 "metadata": {
  "kernelspec": {
   "display_name": "Python 3 (ipykernel)",
   "language": "python",
   "name": "python3"
  },
  "language_info": {
   "codemirror_mode": {
    "name": "ipython",
    "version": 3
   },
   "file_extension": ".py",
   "mimetype": "text/x-python",
   "name": "python",
   "nbconvert_exporter": "python",
   "pygments_lexer": "ipython3",
   "version": "3.11.5"
  }
 },
 "nbformat": 4,
 "nbformat_minor": 5
}
